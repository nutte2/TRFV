{
  "nbformat": 4,
  "nbformat_minor": 0,
  "metadata": {
    "colab": {
      "name": "Vatten1TRFV.ipynb",
      "provenance": [],
      "authorship_tag": "ABX9TyPHlgXXnSE1c/g8TR5b2ZeQ",
      "include_colab_link": true
    },
    "kernelspec": {
      "name": "python3",
      "display_name": "Python 3"
    },
    "language_info": {
      "name": "python"
    }
  },
  "cells": [
    {
      "cell_type": "markdown",
      "metadata": {
        "id": "view-in-github",
        "colab_type": "text"
      },
      "source": [
        "<a href=\"https://colab.research.google.com/github/nutte2/TRFV/blob/main/Vatten1TRFV.ipynb\" target=\"_parent\"><img src=\"https://colab.research.google.com/assets/colab-badge.svg\" alt=\"Open In Colab\"/></a>"
      ]
    },
    {
      "cell_type": "code",
      "metadata": {
        "id": "O-AHpyqzBuHC"
      },
      "source": [
        "Testprogram för att köra Vattenanmälningar från Trafikverket/Sweco till Länsstyrelsen.\n",
        "Kalle Prorok 2021-04-26\n",
        "\n",
        "\n"
      ],
      "execution_count": null,
      "outputs": []
    },
    {
      "cell_type": "code",
      "metadata": {
        "id": "nix51ad8CbKT"
      },
      "source": [
        "#Utilities for NLP. Kalle Prorok 2021\n",
        "#Använder Kungliga bibliotekets BERT\n",
        "\n"
      ],
      "execution_count": null,
      "outputs": []
    }
  ]
}